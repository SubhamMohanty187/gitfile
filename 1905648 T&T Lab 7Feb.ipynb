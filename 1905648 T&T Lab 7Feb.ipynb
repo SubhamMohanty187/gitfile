{
 "cells": [
  {
   "cell_type": "markdown",
   "id": "6b78ef16",
   "metadata": {},
   "source": [
    "### Q-1>Reverse words in a given String in Python"
   ]
  },
  {
   "cell_type": "code",
   "execution_count": 36,
   "id": "6958610e",
   "metadata": {},
   "outputs": [
    {
     "name": "stdout",
     "output_type": "stream",
     "text": [
      "Enter a string: hello my name is subham\n",
      "Reversed string:  subham is name my hello\n"
     ]
    }
   ],
   "source": [
    "str1 = input(\"Enter a string: \")\n",
    "l1 = str1.split()\n",
    "l2 = l1[::-1]\n",
    "print(\"Reversed string: \",\" \".join(l2))"
   ]
  },
  {
   "cell_type": "markdown",
   "id": "68840917",
   "metadata": {},
   "source": [
    "### Q-2> Ways to remove i’th character from string in Python"
   ]
  },
  {
   "cell_type": "code",
   "execution_count": 5,
   "id": "2bf6fe52",
   "metadata": {},
   "outputs": [
    {
     "name": "stdout",
     "output_type": "stream",
     "text": [
      "Enter a string: hello subham\n",
      "Enter which character to remove: l\n",
      "heo subham\n"
     ]
    }
   ],
   "source": [
    "str1 = input(\"Enter a string: \")\n",
    "c = input(\"Enter which character to remove: \")\n",
    "str2 = \"\"\n",
    "for i in range(len(str1)):\n",
    "    if str1[i] != c:\n",
    "        str2 += str1[i]\n",
    "print(str2)"
   ]
  },
  {
   "cell_type": "code",
   "execution_count": 8,
   "id": "f5aea2b3",
   "metadata": {},
   "outputs": [
    {
     "name": "stdout",
     "output_type": "stream",
     "text": [
      "Enter a string: hello subham\n",
      "Enter position of character to remove: 4\n",
      "hell subham\n"
     ]
    }
   ],
   "source": [
    "str1 = input(\"Enter a string: \")\n",
    "c = int(input(\"Enter position of character to remove: \"))\n",
    "str2 = \"\"\n",
    "str2 = str1[:c] + str1[c+1:]\n",
    "print(str2)"
   ]
  },
  {
   "cell_type": "markdown",
   "id": "48a7e0de",
   "metadata": {},
   "source": [
    "### Q-3> Check if a Substring is Present in a Given String"
   ]
  },
  {
   "cell_type": "code",
   "execution_count": 10,
   "id": "14bd008e",
   "metadata": {},
   "outputs": [
    {
     "name": "stdout",
     "output_type": "stream",
     "text": [
      "Enter a string: subham\n",
      "Enter sub-string: abc\n",
      "Not Present!\n"
     ]
    }
   ],
   "source": [
    "str1 = input(\"Enter a string: \")\n",
    "str2 = input(\"Enter sub-string: \")\n",
    "if str2 in str1:\n",
    "    print(\"Present\")\n",
    "else:\n",
    "    print(\"Not Present!\")"
   ]
  },
  {
   "cell_type": "markdown",
   "id": "9e3df242",
   "metadata": {},
   "source": [
    "### Q-4> Python program to print even length words in a string\n"
   ]
  },
  {
   "cell_type": "code",
   "execution_count": 12,
   "id": "ffb5ff79",
   "metadata": {},
   "outputs": [
    {
     "name": "stdout",
     "output_type": "stream",
     "text": [
      "Enter a string: hello my name is subham mohanty\n",
      "my\n",
      "name\n",
      "is\n",
      "subham\n"
     ]
    }
   ],
   "source": [
    "str1 = input(\"Enter a string: \")\n",
    "l1 = str1.split()\n",
    "for i in l1:\n",
    "    if len(i) % 2 == 0:\n",
    "        print(i)"
   ]
  },
  {
   "cell_type": "markdown",
   "id": "dadd14c9",
   "metadata": {},
   "source": [
    "### Q-5> Python program to accept the strings which contains all vowels"
   ]
  },
  {
   "cell_type": "code",
   "execution_count": 19,
   "id": "16128671",
   "metadata": {},
   "outputs": [
    {
     "name": "stdout",
     "output_type": "stream",
     "text": [
      "Enter a string: subham\n",
      "Not Accepted!\n"
     ]
    }
   ],
   "source": [
    "s1 = {\"a\",\"e\",\"i\",\"o\",\"u\"}\n",
    "str1 = input(\"Enter a string: \")\n",
    "s2 = set(str1)\n",
    "l1 = len(s1 & s2)\n",
    "if l1 >= 5:\n",
    "    print(\"Accepted\")\n",
    "else:\n",
    "    print(\"Not Accepted!\")"
   ]
  },
  {
   "cell_type": "code",
   "execution_count": 18,
   "id": "5b5e1753",
   "metadata": {},
   "outputs": [
    {
     "name": "stdout",
     "output_type": "stream",
     "text": [
      "Enter a string: eunoia\n",
      "Accepted\n"
     ]
    }
   ],
   "source": [
    "s1 = {\"a\",\"e\",\"i\",\"o\",\"u\"}\n",
    "str1 = input(\"Enter a string: \")\n",
    "s2 = set(str1)\n",
    "l1 = len(s1 & s2)\n",
    "if l1 >= 5:\n",
    "    print(\"Accepted\")\n",
    "else:\n",
    "    print(\"Not Accepted!\")"
   ]
  },
  {
   "cell_type": "markdown",
   "id": "376d8ca7",
   "metadata": {},
   "source": [
    "### Q-6> Count the Number of matching characters in a pair of string"
   ]
  },
  {
   "cell_type": "code",
   "execution_count": 25,
   "id": "a5268b7f",
   "metadata": {},
   "outputs": [
    {
     "name": "stdout",
     "output_type": "stream",
     "text": [
      "Enter a string: subham\n",
      "Enter another string: mohanty\n",
      "No. of matching characters: 3\n"
     ]
    }
   ],
   "source": [
    "str1 = input(\"Enter a string: \")\n",
    "str2 = input(\"Enter another string: \")\n",
    "s1 = set(str1)\n",
    "s2 = set(str2)\n",
    "print(\"No. of matching characters:\",len(s1 & s2))"
   ]
  },
  {
   "cell_type": "markdown",
   "id": "2864fbb2",
   "metadata": {},
   "source": [
    "### Q-7> Remove all duplicates from a given string in Python\n"
   ]
  },
  {
   "cell_type": "code",
   "execution_count": 23,
   "id": "3a69d781",
   "metadata": {},
   "outputs": [
    {
     "name": "stdout",
     "output_type": "stream",
     "text": [
      "Enter a string: subhammohanty\n",
      "ahstyunbmo\n"
     ]
    }
   ],
   "source": [
    "str1 = input(\"Enter a string: \")\n",
    "s1 = set(str1)\n",
    "s2 = \"\"\n",
    "for i in s1:\n",
    "    s2 += i\n",
    "print(s2)"
   ]
  },
  {
   "cell_type": "markdown",
   "id": "e6f4107d",
   "metadata": {},
   "source": [
    "### Q-8> Python program to copy odd lines of one file to other"
   ]
  },
  {
   "cell_type": "code",
   "execution_count": 30,
   "id": "fdd3ea0a",
   "metadata": {},
   "outputs": [
    {
     "name": "stdout",
     "output_type": "stream",
     "text": [
      "['hello\\n', 'my\\n', 'name\\n', 'is\\n', 'subham\\n', 'mohanty']\n",
      "Odd numbered Lines:\n",
      "my\n",
      "is\n",
      "mohanty\n"
     ]
    }
   ],
   "source": [
    "f1 = open('file1.txt', 'r')\n",
    "f2 = open('file2.txt', 'w')\n",
    "\n",
    "lines1 = f1.readlines()\n",
    "print(lines1)\n",
    "for i in range(0, len(lines1)):\n",
    "    if(i % 2 != 0):\n",
    "        f2.write(lines1[i])\n",
    "    else:\n",
    "        pass\n",
    "    \n",
    "f2.close()\n",
    "print(\"Odd numbered Lines:\")\n",
    "f2 = open('file2.txt', 'r')\n",
    "lines2 = f2.read()\n",
    "print(lines2)\n",
    "\n",
    "f1.close()\n",
    "f2.close()"
   ]
  },
  {
   "cell_type": "markdown",
   "id": "9782216c",
   "metadata": {},
   "source": [
    "### Q-9> Python Program to merge two files into a third file"
   ]
  },
  {
   "cell_type": "code",
   "execution_count": 37,
   "id": "95c0fcb6",
   "metadata": {},
   "outputs": [
    {
     "name": "stdout",
     "output_type": "stream",
     "text": [
      "hello\n",
      "everyone\n",
      "my\n",
      "name\n",
      "is\n",
      "subham\n"
     ]
    }
   ],
   "source": [
    "data = data2 = \"\"\n",
    "  \n",
    "with open('file3.txt') as fp:\n",
    "    data = fp.read()\n",
    "\n",
    "with open('file4.txt') as fp:\n",
    "    data2 = fp.read()\n",
    "\n",
    "data = data + \"\\n\" + data2\n",
    "\n",
    "with open ('file5.txt', 'w') as fp:\n",
    "    fp.write(data)\n",
    "print(data)"
   ]
  },
  {
   "cell_type": "markdown",
   "id": "c5549575",
   "metadata": {},
   "source": [
    "### Q-10> Python program to reverse the content of a file and store it in another file"
   ]
  },
  {
   "cell_type": "code",
   "execution_count": 40,
   "id": "b901a581",
   "metadata": {},
   "outputs": [
    {
     "name": "stdout",
     "output_type": "stream",
     "text": [
      "\n"
     ]
    }
   ],
   "source": [
    "f1 = open(\"file3.txt\", \"w\")\n",
    "\n",
    "with open(\"file5.txt\", \"r\") as mf:\n",
    "    data = mf.read()\n",
    "\n",
    "data1 = data[::-1]\n",
    "\n",
    "print(data1)\n",
    "f1.write(data1)\n",
    "f1.close()"
   ]
  },
  {
   "cell_type": "code",
   "execution_count": null,
   "id": "dc0d9640",
   "metadata": {},
   "outputs": [],
   "source": []
  }
 ],
 "metadata": {
  "kernelspec": {
   "display_name": "Python 3 (ipykernel)",
   "language": "python",
   "name": "python3"
  },
  "language_info": {
   "codemirror_mode": {
    "name": "ipython",
    "version": 3
   },
   "file_extension": ".py",
   "mimetype": "text/x-python",
   "name": "python",
   "nbconvert_exporter": "python",
   "pygments_lexer": "ipython3",
   "version": "3.8.12"
  }
 },
 "nbformat": 4,
 "nbformat_minor": 5
}
