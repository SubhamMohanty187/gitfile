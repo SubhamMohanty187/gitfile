{
 "cells": [
  {
   "cell_type": "code",
   "execution_count": 39,
   "id": "85d45f17",
   "metadata": {},
   "outputs": [
    {
     "name": "stdout",
     "output_type": "stream",
     "text": [
      "enter a number: 6\n",
      "Even Number\n",
      "\n"
     ]
    }
   ],
   "source": [
    "num = int(input(\"enter a number: \"))\n",
    "if num%2==0:\n",
    "    print(\"Even Number\\n\")\n",
    "else:\n",
    "    print(\"Odd NUmber\")"
   ]
  },
  {
   "cell_type": "code",
   "execution_count": 40,
   "id": "71574326",
   "metadata": {},
   "outputs": [
    {
     "name": "stdout",
     "output_type": "stream",
     "text": [
      "Enter dish name: \n",
      "momo\n",
      "Chinese Dish\n"
     ]
    }
   ],
   "source": [
    "india = [\"samosa\",\"nan\",\"dal\"]\n",
    "chinese = [\"noodles\",\"roll\",\"momo\"]\n",
    "italian = [\"risotto\",\"pasta\",\"pizza\"]\n",
    "item = input(\"Enter dish name: \\n\")\n",
    "if item in india: \n",
    "    print(\"Indian Dish\")\n",
    "elif item in chinese:\n",
    "    print(\"Chinese Dish\")\n",
    "elif item in italian:\n",
    "    print(\"Italian Dish\")\n",
    "else:\n",
    "    print(\"Dont know what cuisine is\",item)"
   ]
  },
  {
   "cell_type": "markdown",
   "id": "1cf01d28",
   "metadata": {},
   "source": [
    "###  Print first 10 numbers using range()"
   ]
  },
  {
   "cell_type": "code",
   "execution_count": 41,
   "id": "2b479ab4",
   "metadata": {},
   "outputs": [
    {
     "name": "stdout",
     "output_type": "stream",
     "text": [
      "0\n",
      "1\n",
      "2\n",
      "3\n",
      "4\n",
      "5\n",
      "6\n",
      "7\n",
      "8\n",
      "9\n",
      "10\n"
     ]
    }
   ],
   "source": [
    "for i in range(11):\n",
    "    print(i)"
   ]
  },
  {
   "cell_type": "code",
   "execution_count": 42,
   "id": "3988e55d",
   "metadata": {},
   "outputs": [
    {
     "name": "stdout",
     "output_type": "stream",
     "text": [
      "month 1 expense: 100\n",
      "month 2 expense: 200\n",
      "month 3 expense: 400\n",
      "month 4 expense: 600\n",
      "month 5 expense: 800\n",
      "Total Expense:  2100\n"
     ]
    }
   ],
   "source": [
    "exp = [100,200,400,600,800]\n",
    "total = 0\n",
    "for i in range(len(exp)):\n",
    "    print(\"month\",i+1,\"expense:\",exp[i])\n",
    "    total += exp[i]\n",
    "print(\"Total Expense: \",total)"
   ]
  },
  {
   "cell_type": "markdown",
   "id": "fc6308c0",
   "metadata": {},
   "source": [
    "### Q1 Calculate the sum of all number from 1 to given number."
   ]
  },
  {
   "cell_type": "code",
   "execution_count": 43,
   "id": "45261545",
   "metadata": {},
   "outputs": [
    {
     "name": "stdout",
     "output_type": "stream",
     "text": [
      "enter a number: 12\n",
      "1\n",
      "2\n",
      "3\n",
      "4\n",
      "5\n",
      "6\n",
      "7\n",
      "8\n",
      "9\n",
      "10\n",
      "11\n",
      "12\n"
     ]
    }
   ],
   "source": [
    "num = int(input(\"enter a number: \"))\n",
    "for i in range(1,num+1):\n",
    "    print(i)"
   ]
  },
  {
   "cell_type": "markdown",
   "id": "3aa7b2a6",
   "metadata": {},
   "source": [
    "### Q2 Count the total number of digits in a number"
   ]
  },
  {
   "cell_type": "code",
   "execution_count": 44,
   "id": "ab95c942",
   "metadata": {},
   "outputs": [
    {
     "name": "stdout",
     "output_type": "stream",
     "text": [
      "enter a number: 123454321\n",
      "Digits in 123454321 are:  9\n"
     ]
    }
   ],
   "source": [
    "num = input(\"enter a number: \")\n",
    "print(\"Digits in\",num,\"are: \",len(num))"
   ]
  },
  {
   "cell_type": "markdown",
   "id": "0fcb6de9",
   "metadata": {},
   "source": [
    "### Q3 Print list in reverse order."
   ]
  },
  {
   "cell_type": "code",
   "execution_count": 58,
   "id": "676b78de",
   "metadata": {},
   "outputs": [
    {
     "name": "stdout",
     "output_type": "stream",
     "text": [
      "50\n",
      "40\n",
      "30\n",
      "20\n",
      "10\n"
     ]
    }
   ],
   "source": [
    "l1 = [10,20,30,40,50]\n",
    "#print l1[::-1]\n",
    "for i in range(len(l1)-1, -1, -1):\n",
    "    print(l1[i])"
   ]
  },
  {
   "cell_type": "markdown",
   "id": "9a57c895",
   "metadata": {},
   "source": [
    "### Q4 Write a program to display all prime numbers within a range."
   ]
  },
  {
   "cell_type": "code",
   "execution_count": 46,
   "id": "a9adca1b",
   "metadata": {},
   "outputs": [
    {
     "name": "stdout",
     "output_type": "stream",
     "text": [
      "Enter first number: 2\n",
      "Enter last number: 10\n",
      "The prime nos. between  2  and  10 are: \n",
      "\n",
      "2\n",
      "3\n",
      "5\n",
      "7\n"
     ]
    }
   ],
   "source": [
    "def isPrime(n):\n",
    "    if(n==1 or n==0):\n",
    "        return False\n",
    "    \n",
    "    for i in range(2,(n//2)+1):\n",
    "        if(n%i==0):\n",
    "            return False\n",
    "    return True\n",
    "\n",
    "n1 = int(input(\"Enter first number: \"))\n",
    "n2 = int(input(\"Enter last number: \"))\n",
    "print(\"The prime nos. between \",n1,\" and \",n2,\"are: \\n\")\n",
    "for i in range(n1,n2+1):\n",
    "    if(isPrime(i)):\n",
    "        print(i)"
   ]
  },
  {
   "cell_type": "markdown",
   "id": "0eca7369",
   "metadata": {},
   "source": [
    "### Q5 Display Fibonacci Series upto 10 terms"
   ]
  },
  {
   "cell_type": "code",
   "execution_count": 49,
   "id": "23c3f571",
   "metadata": {},
   "outputs": [
    {
     "name": "stdout",
     "output_type": "stream",
     "text": [
      "Fibonacci Series upto 10 terms: \n",
      "\n",
      "0\n",
      "1\n",
      "1\n",
      "2\n",
      "3\n",
      "5\n",
      "8\n",
      "13\n",
      "21\n",
      "34\n"
     ]
    }
   ],
   "source": [
    "def Fib(n):\n",
    "    if n == 0:\n",
    "        return 0\n",
    "    if n == 1 or n == 2:\n",
    "        return 1\n",
    "    else:\n",
    "        return Fib(n-1) + Fib(n-2)\n",
    "print(\"Fibonacci Series upto 10 terms: \\n\")\n",
    "for i in range(n):\n",
    "    print(Fib(i))"
   ]
  },
  {
   "cell_type": "code",
   "execution_count": null,
   "id": "bb4121b7",
   "metadata": {},
   "outputs": [],
   "source": []
  }
 ],
 "metadata": {
  "kernelspec": {
   "display_name": "Python 3 (ipykernel)",
   "language": "python",
   "name": "python3"
  },
  "language_info": {
   "codemirror_mode": {
    "name": "ipython",
    "version": 3
   },
   "file_extension": ".py",
   "mimetype": "text/x-python",
   "name": "python",
   "nbconvert_exporter": "python",
   "pygments_lexer": "ipython3",
   "version": "3.8.12"
  }
 },
 "nbformat": 4,
 "nbformat_minor": 5
}
