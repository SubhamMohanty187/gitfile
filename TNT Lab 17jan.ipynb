{
 "cells": [
  {
   "cell_type": "code",
   "execution_count": 4,
   "id": "3bbc491b",
   "metadata": {},
   "outputs": [
    {
     "name": "stdout",
     "output_type": "stream",
     "text": [
      "enter a number: 5\n",
      "Odd NUmber\n"
     ]
    }
   ],
   "source": [
    "num = int(input(\"enter a number: \"))\n",
    "if num%2==0:\n",
    "    print(\"Even Number\\n\")\n",
    "else:\n",
    "    print(\"Odd NUmber\")"
   ]
  },
  {
   "cell_type": "code",
   "execution_count": 12,
   "id": "df9d16db",
   "metadata": {},
   "outputs": [
    {
     "name": "stdout",
     "output_type": "stream",
     "text": [
      "Enter dish name: \n",
      "momo\n",
      "Chinese Dish\n"
     ]
    }
   ],
   "source": [
    "india = [\"samosa\",\"nan\",\"dal\"]\n",
    "chinese = [\"noodles\",\"roll\",\"momo\"]\n",
    "italian = [\"risotto\",\"pasta\",\"pizza\"]\n",
    "item = input(\"Enter dish name: \\n\")\n",
    "if item in india: \n",
    "    print(\"Indian Dish\")\n",
    "elif item in chinese:\n",
    "    print(\"Chinese Dish\")\n",
    "elif item in italian:\n",
    "    print(\"Italian Dish\")\n",
    "else:\n",
    "    print(\"Dont know what cuisine is\",item)"
   ]
  },
  {
   "cell_type": "markdown",
   "id": "063c3cee",
   "metadata": {},
   "source": [
    "###  Print first 10 numbers using range()"
   ]
  },
  {
   "cell_type": "code",
   "execution_count": 8,
   "id": "4db0589c",
   "metadata": {},
   "outputs": [
    {
     "name": "stdout",
     "output_type": "stream",
     "text": [
      "0\n",
      "1\n",
      "2\n",
      "3\n",
      "4\n",
      "5\n",
      "6\n",
      "7\n",
      "8\n",
      "9\n",
      "10\n"
     ]
    }
   ],
   "source": [
    "for i in range(11):\n",
    "    print(i)"
   ]
  },
  {
   "cell_type": "code",
   "execution_count": 11,
   "id": "95fbeaf6",
   "metadata": {},
   "outputs": [
    {
     "name": "stdout",
     "output_type": "stream",
     "text": [
      "month 1 expense: 100\n",
      "month 2 expense: 200\n",
      "month 3 expense: 400\n",
      "month 4 expense: 600\n",
      "month 5 expense: 800\n",
      "Total Expense:  2100\n"
     ]
    }
   ],
   "source": [
    "exp = [100,200,400,600,800]\n",
    "total = 0\n",
    "for i in range(len(exp)):\n",
    "    print(\"month\",i+1,\"expense:\",exp[i])\n",
    "    total += exp[i]\n",
    "print(\"Total Expense: \",total)"
   ]
  }
 ],
 "metadata": {
  "kernelspec": {
   "display_name": "Python 3 (ipykernel)",
   "language": "python",
   "name": "python3"
  },
  "language_info": {
   "codemirror_mode": {
    "name": "ipython",
    "version": 3
   },
   "file_extension": ".py",
   "mimetype": "text/x-python",
   "name": "python",
   "nbconvert_exporter": "python",
   "pygments_lexer": "ipython3",
   "version": "3.8.12"
  }
 },
 "nbformat": 4,
 "nbformat_minor": 5
}
